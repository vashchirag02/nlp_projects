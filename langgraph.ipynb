{
  "nbformat": 4,
  "nbformat_minor": 0,
  "metadata": {
    "colab": {
      "provenance": [],
      "include_colab_link": true
    },
    "kernelspec": {
      "name": "python3",
      "display_name": "Python 3"
    },
    "language_info": {
      "name": "python"
    }
  },
  "cells": [
    {
      "cell_type": "markdown",
      "metadata": {
        "id": "view-in-github",
        "colab_type": "text"
      },
      "source": [
        "<a href=\"https://colab.research.google.com/github/vashchirag02/nlp_projects/blob/main/langgraph.ipynb\" target=\"_parent\"><img src=\"https://colab.research.google.com/assets/colab-badge.svg\" alt=\"Open In Colab\"/></a>"
      ]
    },
    {
      "cell_type": "markdown",
      "source": [
        "# STEP 0: Install dependencies"
      ],
      "metadata": {
        "id": "K3yWWtQ8cC4i"
      }
    },
    {
      "cell_type": "code",
      "source": [
        "!pip install -qU google_generativeai==0.8.5 google_ai_generativelanguage==0.6.15\\\n",
        "langgraph langchain langchain-google-genai openai\n",
        "!pip install -q google-generativeai\n"
      ],
      "metadata": {
        "id": "hrzn0or5y3nk"
      },
      "execution_count": 59,
      "outputs": []
    },
    {
      "cell_type": "markdown",
      "source": [
        "# STEP 1: Imports and secure API key input"
      ],
      "metadata": {
        "id": "XvoFPl11cFhj"
      }
    },
    {
      "cell_type": "code",
      "source": [
        "import os\n",
        "import getpass\n",
        "from langgraph.graph import StateGraph,END\n",
        "from langchain_google_genai import ChatGoogleGenerativeAI\n",
        "from langchain_core.messages import HumanMessage"
      ],
      "metadata": {
        "id": "mEHqnujD1oBj"
      },
      "execution_count": 60,
      "outputs": []
    },
    {
      "cell_type": "markdown",
      "source": [
        "\n",
        "# Secure Gemini API Key input"
      ],
      "metadata": {
        "id": "W28u20SxcIiH"
      }
    },
    {
      "cell_type": "code",
      "source": [
        "os.environ[\"OPEN_API_KEY\"] = getpass.getpass(\"Enter your api key\")"
      ],
      "metadata": {
        "colab": {
          "base_uri": "https://localhost:8080/"
        },
        "id": "s_qkIvvHx-Su",
        "outputId": "c5d2d21b-f78e-4546-9994-806cb0246629"
      },
      "execution_count": 61,
      "outputs": [
        {
          "name": "stdout",
          "output_type": "stream",
          "text": [
            "Enter your api key··········\n"
          ]
        }
      ]
    },
    {
      "cell_type": "markdown",
      "source": [
        "# STEP 2: Initialize Gemini 1.5 Flash"
      ],
      "metadata": {
        "id": "eusINPuVcLXp"
      }
    },
    {
      "cell_type": "code",
      "source": [
        "llm = ChatGoogleGenerativeAI(\n",
        "    model=\"gemini-1.5-flash\",\n",
        "    temperature=0.4,\n",
        "    google_api_key=os.environ[\"OPEN_API_KEY\"]\n",
        ")"
      ],
      "metadata": {
        "id": "8pojnuaI1Udi"
      },
      "execution_count": 70,
      "outputs": []
    },
    {
      "cell_type": "markdown",
      "source": [
        "# STEP 3: Node to ask user for symptom"
      ],
      "metadata": {
        "id": "o07zbkLWcOVW"
      }
    },
    {
      "cell_type": "code",
      "source": [
        "def get_symptom(state : dict)-> dict:\n",
        "  symptom=input('Welcome to our hospital! Please enter your symptoms')\n",
        "  state[\"symptom\"]=symptom\n",
        "  return state"
      ],
      "metadata": {
        "id": "53OWKmQ3wBqw"
      },
      "execution_count": 71,
      "outputs": []
    },
    {
      "cell_type": "markdown",
      "source": [
        "# STEP 4: Node to classify the symptom"
      ],
      "metadata": {
        "id": "0KIzyYPVcRVm"
      }
    },
    {
      "cell_type": "code",
      "source": [
        "\n",
        "def classify_symptom(state : dict)-> dict:\n",
        "  prompt=(\n",
        "      \"you are a helpful medical assistant , classify the symptom below into one of the categories\\n\"\n",
        "      \"General \\n\"\"Emergency \\n\" \"Mental Health \\n\"\n",
        "      f\"symptom: {state['symptom']} \\n\"\n",
        "      \"Respond only with one word : General ,Emergency or Mental Health\"\n",
        "      \"Example: input : I have fever ,output :General\"\n",
        "  )\n",
        "  response = llm.invoke([HumanMessage(content=prompt)])\n",
        "  category = response.content.strip()\n",
        "  print(f\"llm classifies the symptom as : {category}\")\n",
        "  state[\"category\"]=category\n",
        "  return state"
      ],
      "metadata": {
        "id": "pqNMeiHUxgga"
      },
      "execution_count": 72,
      "outputs": []
    },
    {
      "cell_type": "markdown",
      "source": [
        "# STEP 5: Router logic to route to the correct node\n"
      ],
      "metadata": {
        "id": "kESmxbnicWpS"
      }
    },
    {
      "cell_type": "code",
      "source": [
        "def symptom_router(state : dict)-> dict:\n",
        "  cat =state[\"category\"].lower()\n",
        "  if \"general\" in cat:\n",
        "    return \"general\"\n",
        "  elif \"emergency\" in cat:\n",
        "    return \"emergency\"\n",
        "  elif \"mental_health\" in cat:\n",
        "    return \"mental_health\"\n",
        "  else:\n",
        "    return \"general\""
      ],
      "metadata": {
        "id": "1J6YSuUx2PZf"
      },
      "execution_count": 77,
      "outputs": []
    },
    {
      "cell_type": "markdown",
      "source": [
        "# STEP 6: Category-specific response nodes\n"
      ],
      "metadata": {
        "id": "cZuR4VGscake"
      }
    },
    {
      "cell_type": "code",
      "source": [
        "def general_node(state :dict)-> dict:\n",
        "  state[\"answer\"]=f\" '{state['symptom']}' : seems general : directing you to a generl ward to consult with the doctor\"\n",
        "  return state\n",
        "\n",
        "def emergency_node(state:dict)->dict:\n",
        "  state[\"answer\"]=f\" '{state['symptom']}' : it is medical emergency : seeking immediate help\"\n",
        "  return state\n",
        "\n",
        "def mental_health_node(state:dict)->dict:\n",
        "  state[\"amswer\"]=f\"  '{state['symptom']}' : seems like a mental health issue : speak to our counellor \"\n",
        "  return state"
      ],
      "metadata": {
        "id": "aa9ktRx-aCFf"
      },
      "execution_count": 78,
      "outputs": []
    },
    {
      "cell_type": "markdown",
      "source": [
        "# STEP 7: Build LangGraph\n"
      ],
      "metadata": {
        "id": "I1ek0SwzcehS"
      }
    },
    {
      "cell_type": "code",
      "source": [
        "builder = StateGraph(dict)\n",
        "\n",
        "builder.set_entry_point(\"get_symptom\")\n",
        "\n",
        "builder.add_node(\"get_symptom\",get_symptom)\n",
        "builder.add_node(\"classify\",classify_symptom)\n",
        "builder.add_node(\"general\",general_node)\n",
        "builder.add_node(\"emergency\",emergency_node)\n",
        "builder.add_node(\"mental_health\",mental_health_node)\n",
        "\n",
        "builder.add_edge(\"get_symptom\",\"classify\")\n",
        "builder.add_conditional_edges(\"classify\",symptom_router,{\n",
        "    \"general\": \"general\",\n",
        "    \"emergency\": \"emergency\",\n",
        "    \"mental_health\": \"mental_health\"\n",
        "})\n",
        "builder.add_edge(\"general\",END)\n",
        "builder.add_edge(\"emergency\",END)\n",
        "builder.add_edge(\"mental_health\",END)"
      ],
      "metadata": {
        "colab": {
          "base_uri": "https://localhost:8080/"
        },
        "id": "TI8FXmn2cUJl",
        "outputId": "18f6129a-fea6-4c30-cdc0-8a59ae71f39a"
      },
      "execution_count": 79,
      "outputs": [
        {
          "output_type": "execute_result",
          "data": {
            "text/plain": [
              "<langgraph.graph.state.StateGraph at 0x7ab0201b2fd0>"
            ]
          },
          "metadata": {},
          "execution_count": 79
        }
      ]
    },
    {
      "cell_type": "markdown",
      "source": [
        "# STEP 8: Compile and invoke the graph\n"
      ],
      "metadata": {
        "id": "GbAgCeZYci5k"
      }
    },
    {
      "cell_type": "code",
      "source": [
        "graph =builder.compile()\n",
        "final_state= graph.invoke({})\n",
        "print(\"final output \\n\")\n",
        "print(final_state[\"answer\"])"
      ],
      "metadata": {
        "colab": {
          "base_uri": "https://localhost:8080/"
        },
        "id": "3BWd8MHXgJlz",
        "outputId": "4211dff2-99fb-4e79-bc3e-fdcf2c65addf"
      },
      "execution_count": 81,
      "outputs": [
        {
          "output_type": "stream",
          "name": "stdout",
          "text": [
            "Welcome to our hospital! Please enter your symptomsmy nose is bleeding\n",
            "llm classifies the symptom as : Emergency\n",
            "final output \n",
            "\n",
            " 'my nose is bleeding' : it is medical emergency : seeking immediate help\n"
          ]
        }
      ]
    },
    {
      "cell_type": "code",
      "source": [],
      "metadata": {
        "id": "p1xICRrIguJQ"
      },
      "execution_count": 80,
      "outputs": []
    }
  ]
}