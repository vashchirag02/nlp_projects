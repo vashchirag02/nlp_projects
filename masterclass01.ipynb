{
 "cells": [
  {
   "cell_type": "code",
   "execution_count": null,
   "metadata": {
    "colab": {
     "base_uri": "https://localhost:8080/"
    },
    "executionInfo": {
     "elapsed": 13282,
     "status": "ok",
     "timestamp": 1752403417797,
     "user": {
      "displayName": "Chirag Vashisth",
      "userId": "11518088518947234310"
     },
     "user_tz": -330
    },
    "id": "8HsL6EgXXj4E",
    "outputId": "ebeac7ab-5d1a-4753-f70e-4888fb58ee5b"
   },
   "outputs": [
    {
     "name": "stdout",
     "output_type": "stream",
     "text": [
      "\u001b[?25l   \u001b[90m━━━━━━━━━━━━━━━━━━━━━━━━━━━━━━━━━━━━━━━━\u001b[0m \u001b[32m0.0/1.6 MB\u001b[0m \u001b[31m?\u001b[0m eta \u001b[36m-:--:--\u001b[0m\r\u001b[2K   \u001b[90m━━━━━━━━━━━━━━━━━━━━━━━━━━━━━━━━━━━━━━━━\u001b[0m \u001b[32m1.6/1.6 MB\u001b[0m \u001b[31m55.6 MB/s\u001b[0m eta \u001b[36m0:00:00\u001b[0m\n",
      "\u001b[?25h"
     ]
    }
   ],
   "source": [
    "!pip install google--generativeai --quiet\n",
    "!pip install ipywidgets --quiet #create a beautiful ui"
   ]
  },
  {
   "cell_type": "code",
   "execution_count": 5,
   "metadata": {
    "executionInfo": {
     "elapsed": 5,
     "status": "ok",
     "timestamp": 1753515030723,
     "user": {
      "displayName": "Chirag Vashisth",
      "userId": "11518088518947234310"
     },
     "user_tz": -330
    },
    "id": "o03-d4-6c6Pw"
   },
   "outputs": [],
   "source": [
    "import google.generativeai as genai\n",
    "import ipywidgets as widgets\n",
    "import os\n",
    "import getpass\n"
   ]
  },
  {
   "cell_type": "code",
   "execution_count": 6,
   "metadata": {
    "executionInfo": {
     "elapsed": 17,
     "status": "ok",
     "timestamp": 1753515031446,
     "user": {
      "displayName": "Chirag Vashisth",
      "userId": "11518088518947234310"
     },
     "user_tz": -330
    },
    "id": "YDlmXDjNdSSm"
   },
   "outputs": [],
   "source": [
    "from IPython.display import display , Markdown, clear_output"
   ]
  },
  {
   "cell_type": "code",
   "execution_count": 7,
   "metadata": {
    "colab": {
     "base_uri": "https://localhost:8080/"
    },
    "executionInfo": {
     "elapsed": 10703,
     "status": "ok",
     "timestamp": 1753515042869,
     "user": {
      "displayName": "Chirag Vashisth",
      "userId": "11518088518947234310"
     },
     "user_tz": -330
    },
    "id": "1CqTBA9ddg2e",
    "outputId": "b07532ac-deb0-4e82-e334-061ae53b517e"
   },
   "outputs": [
    {
     "name": "stdout",
     "output_type": "stream",
     "text": [
      "Enter your api key··········\n"
     ]
    }
   ],
   "source": [
    "os.environ[\"API_KEY\"]=getpass.getpass(\"Enter your api key\")\n",
    "genai.configure(api_key = os.environ[\"API_KEY\"])\n",
    "model=genai.GenerativeModel(\"gemini-2.5-flash\")"
   ]
  },
  {
   "cell_type": "code",
   "execution_count": 8,
   "metadata": {
    "executionInfo": {
     "elapsed": 287,
     "status": "ok",
     "timestamp": 1753515049537,
     "user": {
      "displayName": "Chirag Vashisth",
      "userId": "11518088518947234310"
     },
     "user_tz": -330
    },
    "id": "NZH_7VFUeJHq"
   },
   "outputs": [],
   "source": [
    "topic_input = widgets.Text(\n",
    "    description = \"Topic\",\n",
    "    layout = widgets.Layout(width=\"400px\")\n",
    ")\n",
    "\n",
    "tone_input = widgets.Dropdown(\n",
    "    description = \"Tone\",\n",
    "    options =[\"Professional\",\"Casual\",\"Motivational\",\"Informative\"],\n",
    "    layout = widgets.Layout(width=\"400px\")\n",
    ")\n",
    "\n",
    "audience_input = widgets.Text(\n",
    "    description = \"Audience\",\n",
    "    layout = widgets.Layout(width=\"400px\")\n",
    ")\n",
    "\n",
    "hashtag_input = widgets.Text(\n",
    "    description = \"Hashtag\",\n",
    "    layout = widgets.Layout(width=\"400px\")\n",
    ")\n",
    "submit_button=widgets.Button(\n",
    "    description=\"Generate Tweet\",\n",
    "    button_style=\"Success\",\n",
    "    tooltip=\"Click to Generate Tweet\",\n",
    "    layout=widgets.Layout(width=\"400px\")\n",
    "    )\n",
    "output=widgets.Output()"
   ]
  },
  {
   "cell_type": "code",
   "execution_count": 9,
   "metadata": {
    "executionInfo": {
     "elapsed": 5,
     "status": "ok",
     "timestamp": 1753515050313,
     "user": {
      "displayName": "Chirag Vashisth",
      "userId": "11518088518947234310"
     },
     "user_tz": -330
    },
    "id": "eEKsfRqBXcMy"
   },
   "outputs": [],
   "source": [
    "def generate_tweet(b):\n",
    "  output.clear_output()\n",
    "\n",
    "  prompt = f\"\"\"\n",
    "You are an expert Content Writer.\n",
    "Generate a tweet about the topic: \"{topic_input.value}\".\n",
    "Use a tone: {tone_input.value}.\n",
    "Generate the tweet for the audience: {audience_input.value}.\n",
    "Include the hashtags: {hashtag_input.value}.\n",
    "Keep it under 280 characters.\n",
    "\"\"\"\n",
    "\n",
    "  with output:\n",
    "        try:\n",
    "            response = model.generate_content(prompt)  # Use () not {}\n",
    "            tweet = response.text.strip()\n",
    "            display(Markdown(f\"### Generated Tweet:\\n\\n{tweet}\"))\n",
    "        except Exception as e:\n",
    "            print(\"Error:\", e)\n",
    "\n",
    "submit_button.on_click(generate_tweet)"
   ]
  },
  {
   "cell_type": "code",
   "execution_count": 11,
   "metadata": {
    "colab": {
     "base_uri": "https://localhost:8080/",
     "height": 327,
     "referenced_widgets": [
      "001a419b7dd346b695cdbd31e6923255",
      "e570363adca742abb38d4ac5af76a1b9",
      "ce249b12560c42539cb8c105ee6140c0",
      "68d4041a4c9a443fbbcabb6ae8a3ff6a",
      "b30422ea4e5a4d43a01e831f035ba53a",
      "40d676b0ed624e709ea7e03ef9063263",
      "5ae3b39c04324ae28bbc071ec8a72b67",
      "b6829a27efe54d4ea7fa460e4e01b472",
      "7c94790b6dd241e6a41aef6c87061cf7",
      "2afb715aaf9c4869bee6c0d9a74207c7",
      "938ae419e93b44e0be8378f48f8cd3ac",
      "2303ef1aeac548f1b9680c873afbfd7f",
      "7805af2405304c06b145282b82b1f14f",
      "a9e1ba934379419980397e8807e52e59",
      "4ceca21dca0640d1b672ac2a2e2c2219",
      "18a227f0bede4cfea04ec986cc096488",
      "0c8602635d984bef8251e2fd2814bdf0",
      "6feb24465df14d238ab0ee8a57e141e8",
      "1d2991bdd72148aba5e266b8961641c6",
      "190485158dc944d38c7bbcdafa369130",
      "1397267757be4de1923d7ba0c7d5f444",
      "e8b09312e53f46fd9f674557f11f069a"
     ]
    },
    "executionInfo": {
     "elapsed": 86,
     "status": "ok",
     "timestamp": 1753515159507,
     "user": {
      "displayName": "Chirag Vashisth",
      "userId": "11518088518947234310"
     },
     "user_tz": -330
    },
    "id": "Ps4WcDNxXdZ2",
    "outputId": "252e0164-0f3b-4b45-c066-55ffeb5a80bd"
   },
   "outputs": [
    {
     "data": {
      "application/vnd.jupyter.widget-view+json": {
       "model_id": "001a419b7dd346b695cdbd31e6923255",
       "version_major": 2,
       "version_minor": 0
      },
      "text/plain": [
       "VBox(children=(HTML(value='<h1>Tweet Generator<h1>'), Text(value='god', description='Topic', layout=Layout(wid…"
      ]
     },
     "metadata": {},
     "output_type": "display_data"
    }
   ],
   "source": [
    "form = widgets.VBox([\n",
    "    widgets.HTML(value=\"<h1>Tweet Generator<h1>\"),\n",
    "    topic_input,\n",
    "    tone_input,\n",
    "    audience_input,\n",
    "    hashtag_input,\n",
    "    submit_button,\n",
    "    output\n",
    "])\n",
    "\n",
    "display(form)"
   ]
  },
  {
   "cell_type": "code",
   "execution_count": null,
   "metadata": {
    "id": "5qGOn5lxab6f"
   },
   "outputs": [],
   "source": []
  }
 ],
 "metadata": {
  "colab": {
   "authorship_tag": "ABX9TyNsAsV9m8Rx5ADXp+hq9X7l",
   "provenance": []
  },
  "kernelspec": {
   "display_name": "Python 3",
   "name": "python3"
  },
  "language_info": {
   "name": "python"
  },
  "widgets": {
   "application/vnd.jupyter.widget-state+json": {
    "001a419b7dd346b695cdbd31e6923255": {
     "model_module": "@jupyter-widgets/controls",
     "model_module_version": "1.5.0",
     "model_name": "VBoxModel",
     "state": {
      "_dom_classes": [],
      "_model_module": "@jupyter-widgets/controls",
      "_model_module_version": "1.5.0",
      "_model_name": "VBoxModel",
      "_view_count": null,
      "_view_module": "@jupyter-widgets/controls",
      "_view_module_version": "1.5.0",
      "_view_name": "VBoxView",
      "box_style": "",
      "children": [
       "IPY_MODEL_e570363adca742abb38d4ac5af76a1b9",
       "IPY_MODEL_ce249b12560c42539cb8c105ee6140c0",
       "IPY_MODEL_68d4041a4c9a443fbbcabb6ae8a3ff6a",
       "IPY_MODEL_b30422ea4e5a4d43a01e831f035ba53a",
       "IPY_MODEL_40d676b0ed624e709ea7e03ef9063263",
       "IPY_MODEL_5ae3b39c04324ae28bbc071ec8a72b67",
       "IPY_MODEL_b6829a27efe54d4ea7fa460e4e01b472"
      ],
      "layout": "IPY_MODEL_7c94790b6dd241e6a41aef6c87061cf7"
     }
    },
    "0c8602635d984bef8251e2fd2814bdf0": {
     "model_module": "@jupyter-widgets/controls",
     "model_module_version": "1.5.0",
     "model_name": "DescriptionStyleModel",
     "state": {
      "_model_module": "@jupyter-widgets/controls",
      "_model_module_version": "1.5.0",
      "_model_name": "DescriptionStyleModel",
      "_view_count": null,
      "_view_module": "@jupyter-widgets/base",
      "_view_module_version": "1.2.0",
      "_view_name": "StyleView",
      "description_width": ""
     }
    },
    "1397267757be4de1923d7ba0c7d5f444": {
     "model_module": "@jupyter-widgets/controls",
     "model_module_version": "1.5.0",
     "model_name": "ButtonStyleModel",
     "state": {
      "_model_module": "@jupyter-widgets/controls",
      "_model_module_version": "1.5.0",
      "_model_name": "ButtonStyleModel",
      "_view_count": null,
      "_view_module": "@jupyter-widgets/base",
      "_view_module_version": "1.2.0",
      "_view_name": "StyleView",
      "button_color": null,
      "font_weight": ""
     }
    },
    "18a227f0bede4cfea04ec986cc096488": {
     "model_module": "@jupyter-widgets/base",
     "model_module_version": "1.2.0",
     "model_name": "LayoutModel",
     "state": {
      "_model_module": "@jupyter-widgets/base",
      "_model_module_version": "1.2.0",
      "_model_name": "LayoutModel",
      "_view_count": null,
      "_view_module": "@jupyter-widgets/base",
      "_view_module_version": "1.2.0",
      "_view_name": "LayoutView",
      "align_content": null,
      "align_items": null,
      "align_self": null,
      "border": null,
      "bottom": null,
      "display": null,
      "flex": null,
      "flex_flow": null,
      "grid_area": null,
      "grid_auto_columns": null,
      "grid_auto_flow": null,
      "grid_auto_rows": null,
      "grid_column": null,
      "grid_gap": null,
      "grid_row": null,
      "grid_template_areas": null,
      "grid_template_columns": null,
      "grid_template_rows": null,
      "height": null,
      "justify_content": null,
      "justify_items": null,
      "left": null,
      "margin": null,
      "max_height": null,
      "max_width": null,
      "min_height": null,
      "min_width": null,
      "object_fit": null,
      "object_position": null,
      "order": null,
      "overflow": null,
      "overflow_x": null,
      "overflow_y": null,
      "padding": null,
      "right": null,
      "top": null,
      "visibility": null,
      "width": "400px"
     }
    },
    "190485158dc944d38c7bbcdafa369130": {
     "model_module": "@jupyter-widgets/base",
     "model_module_version": "1.2.0",
     "model_name": "LayoutModel",
     "state": {
      "_model_module": "@jupyter-widgets/base",
      "_model_module_version": "1.2.0",
      "_model_name": "LayoutModel",
      "_view_count": null,
      "_view_module": "@jupyter-widgets/base",
      "_view_module_version": "1.2.0",
      "_view_name": "LayoutView",
      "align_content": null,
      "align_items": null,
      "align_self": null,
      "border": null,
      "bottom": null,
      "display": null,
      "flex": null,
      "flex_flow": null,
      "grid_area": null,
      "grid_auto_columns": null,
      "grid_auto_flow": null,
      "grid_auto_rows": null,
      "grid_column": null,
      "grid_gap": null,
      "grid_row": null,
      "grid_template_areas": null,
      "grid_template_columns": null,
      "grid_template_rows": null,
      "height": null,
      "justify_content": null,
      "justify_items": null,
      "left": null,
      "margin": null,
      "max_height": null,
      "max_width": null,
      "min_height": null,
      "min_width": null,
      "object_fit": null,
      "object_position": null,
      "order": null,
      "overflow": null,
      "overflow_x": null,
      "overflow_y": null,
      "padding": null,
      "right": null,
      "top": null,
      "visibility": null,
      "width": "400px"
     }
    },
    "1d2991bdd72148aba5e266b8961641c6": {
     "model_module": "@jupyter-widgets/controls",
     "model_module_version": "1.5.0",
     "model_name": "DescriptionStyleModel",
     "state": {
      "_model_module": "@jupyter-widgets/controls",
      "_model_module_version": "1.5.0",
      "_model_name": "DescriptionStyleModel",
      "_view_count": null,
      "_view_module": "@jupyter-widgets/base",
      "_view_module_version": "1.2.0",
      "_view_name": "StyleView",
      "description_width": ""
     }
    },
    "2303ef1aeac548f1b9680c873afbfd7f": {
     "model_module": "@jupyter-widgets/base",
     "model_module_version": "1.2.0",
     "model_name": "LayoutModel",
     "state": {
      "_model_module": "@jupyter-widgets/base",
      "_model_module_version": "1.2.0",
      "_model_name": "LayoutModel",
      "_view_count": null,
      "_view_module": "@jupyter-widgets/base",
      "_view_module_version": "1.2.0",
      "_view_name": "LayoutView",
      "align_content": null,
      "align_items": null,
      "align_self": null,
      "border": null,
      "bottom": null,
      "display": null,
      "flex": null,
      "flex_flow": null,
      "grid_area": null,
      "grid_auto_columns": null,
      "grid_auto_flow": null,
      "grid_auto_rows": null,
      "grid_column": null,
      "grid_gap": null,
      "grid_row": null,
      "grid_template_areas": null,
      "grid_template_columns": null,
      "grid_template_rows": null,
      "height": null,
      "justify_content": null,
      "justify_items": null,
      "left": null,
      "margin": null,
      "max_height": null,
      "max_width": null,
      "min_height": null,
      "min_width": null,
      "object_fit": null,
      "object_position": null,
      "order": null,
      "overflow": null,
      "overflow_x": null,
      "overflow_y": null,
      "padding": null,
      "right": null,
      "top": null,
      "visibility": null,
      "width": "400px"
     }
    },
    "2afb715aaf9c4869bee6c0d9a74207c7": {
     "model_module": "@jupyter-widgets/base",
     "model_module_version": "1.2.0",
     "model_name": "LayoutModel",
     "state": {
      "_model_module": "@jupyter-widgets/base",
      "_model_module_version": "1.2.0",
      "_model_name": "LayoutModel",
      "_view_count": null,
      "_view_module": "@jupyter-widgets/base",
      "_view_module_version": "1.2.0",
      "_view_name": "LayoutView",
      "align_content": null,
      "align_items": null,
      "align_self": null,
      "border": null,
      "bottom": null,
      "display": null,
      "flex": null,
      "flex_flow": null,
      "grid_area": null,
      "grid_auto_columns": null,
      "grid_auto_flow": null,
      "grid_auto_rows": null,
      "grid_column": null,
      "grid_gap": null,
      "grid_row": null,
      "grid_template_areas": null,
      "grid_template_columns": null,
      "grid_template_rows": null,
      "height": null,
      "justify_content": null,
      "justify_items": null,
      "left": null,
      "margin": null,
      "max_height": null,
      "max_width": null,
      "min_height": null,
      "min_width": null,
      "object_fit": null,
      "object_position": null,
      "order": null,
      "overflow": null,
      "overflow_x": null,
      "overflow_y": null,
      "padding": null,
      "right": null,
      "top": null,
      "visibility": null,
      "width": null
     }
    },
    "40d676b0ed624e709ea7e03ef9063263": {
     "model_module": "@jupyter-widgets/controls",
     "model_module_version": "1.5.0",
     "model_name": "TextModel",
     "state": {
      "_dom_classes": [],
      "_model_module": "@jupyter-widgets/controls",
      "_model_module_version": "1.5.0",
      "_model_name": "TextModel",
      "_view_count": null,
      "_view_module": "@jupyter-widgets/controls",
      "_view_module_version": "1.5.0",
      "_view_name": "TextView",
      "continuous_update": true,
      "description": "Hashtag",
      "description_tooltip": null,
      "disabled": false,
      "layout": "IPY_MODEL_6feb24465df14d238ab0ee8a57e141e8",
      "placeholder": "​",
      "style": "IPY_MODEL_1d2991bdd72148aba5e266b8961641c6",
      "value": "love"
     }
    },
    "4ceca21dca0640d1b672ac2a2e2c2219": {
     "model_module": "@jupyter-widgets/controls",
     "model_module_version": "1.5.0",
     "model_name": "DescriptionStyleModel",
     "state": {
      "_model_module": "@jupyter-widgets/controls",
      "_model_module_version": "1.5.0",
      "_model_name": "DescriptionStyleModel",
      "_view_count": null,
      "_view_module": "@jupyter-widgets/base",
      "_view_module_version": "1.2.0",
      "_view_name": "StyleView",
      "description_width": ""
     }
    },
    "5ae3b39c04324ae28bbc071ec8a72b67": {
     "model_module": "@jupyter-widgets/controls",
     "model_module_version": "1.5.0",
     "model_name": "ButtonModel",
     "state": {
      "_dom_classes": [],
      "_model_module": "@jupyter-widgets/controls",
      "_model_module_version": "1.5.0",
      "_model_name": "ButtonModel",
      "_view_count": null,
      "_view_module": "@jupyter-widgets/controls",
      "_view_module_version": "1.5.0",
      "_view_name": "ButtonView",
      "button_style": "success",
      "description": "Generate Tweet",
      "disabled": false,
      "icon": "",
      "layout": "IPY_MODEL_190485158dc944d38c7bbcdafa369130",
      "style": "IPY_MODEL_1397267757be4de1923d7ba0c7d5f444",
      "tooltip": "Click to Generate Tweet"
     }
    },
    "68d4041a4c9a443fbbcabb6ae8a3ff6a": {
     "model_module": "@jupyter-widgets/controls",
     "model_module_version": "1.5.0",
     "model_name": "DropdownModel",
     "state": {
      "_dom_classes": [],
      "_model_module": "@jupyter-widgets/controls",
      "_model_module_version": "1.5.0",
      "_model_name": "DropdownModel",
      "_options_labels": [
       "Professional",
       "Casual",
       "Motivational",
       "Informative"
      ],
      "_view_count": null,
      "_view_module": "@jupyter-widgets/controls",
      "_view_module_version": "1.5.0",
      "_view_name": "DropdownView",
      "description": "Tone",
      "description_tooltip": null,
      "disabled": false,
      "index": 1,
      "layout": "IPY_MODEL_a9e1ba934379419980397e8807e52e59",
      "style": "IPY_MODEL_4ceca21dca0640d1b672ac2a2e2c2219"
     }
    },
    "6feb24465df14d238ab0ee8a57e141e8": {
     "model_module": "@jupyter-widgets/base",
     "model_module_version": "1.2.0",
     "model_name": "LayoutModel",
     "state": {
      "_model_module": "@jupyter-widgets/base",
      "_model_module_version": "1.2.0",
      "_model_name": "LayoutModel",
      "_view_count": null,
      "_view_module": "@jupyter-widgets/base",
      "_view_module_version": "1.2.0",
      "_view_name": "LayoutView",
      "align_content": null,
      "align_items": null,
      "align_self": null,
      "border": null,
      "bottom": null,
      "display": null,
      "flex": null,
      "flex_flow": null,
      "grid_area": null,
      "grid_auto_columns": null,
      "grid_auto_flow": null,
      "grid_auto_rows": null,
      "grid_column": null,
      "grid_gap": null,
      "grid_row": null,
      "grid_template_areas": null,
      "grid_template_columns": null,
      "grid_template_rows": null,
      "height": null,
      "justify_content": null,
      "justify_items": null,
      "left": null,
      "margin": null,
      "max_height": null,
      "max_width": null,
      "min_height": null,
      "min_width": null,
      "object_fit": null,
      "object_position": null,
      "order": null,
      "overflow": null,
      "overflow_x": null,
      "overflow_y": null,
      "padding": null,
      "right": null,
      "top": null,
      "visibility": null,
      "width": "400px"
     }
    },
    "7805af2405304c06b145282b82b1f14f": {
     "model_module": "@jupyter-widgets/controls",
     "model_module_version": "1.5.0",
     "model_name": "DescriptionStyleModel",
     "state": {
      "_model_module": "@jupyter-widgets/controls",
      "_model_module_version": "1.5.0",
      "_model_name": "DescriptionStyleModel",
      "_view_count": null,
      "_view_module": "@jupyter-widgets/base",
      "_view_module_version": "1.2.0",
      "_view_name": "StyleView",
      "description_width": ""
     }
    },
    "7c94790b6dd241e6a41aef6c87061cf7": {
     "model_module": "@jupyter-widgets/base",
     "model_module_version": "1.2.0",
     "model_name": "LayoutModel",
     "state": {
      "_model_module": "@jupyter-widgets/base",
      "_model_module_version": "1.2.0",
      "_model_name": "LayoutModel",
      "_view_count": null,
      "_view_module": "@jupyter-widgets/base",
      "_view_module_version": "1.2.0",
      "_view_name": "LayoutView",
      "align_content": null,
      "align_items": null,
      "align_self": null,
      "border": null,
      "bottom": null,
      "display": null,
      "flex": null,
      "flex_flow": null,
      "grid_area": null,
      "grid_auto_columns": null,
      "grid_auto_flow": null,
      "grid_auto_rows": null,
      "grid_column": null,
      "grid_gap": null,
      "grid_row": null,
      "grid_template_areas": null,
      "grid_template_columns": null,
      "grid_template_rows": null,
      "height": null,
      "justify_content": null,
      "justify_items": null,
      "left": null,
      "margin": null,
      "max_height": null,
      "max_width": null,
      "min_height": null,
      "min_width": null,
      "object_fit": null,
      "object_position": null,
      "order": null,
      "overflow": null,
      "overflow_x": null,
      "overflow_y": null,
      "padding": null,
      "right": null,
      "top": null,
      "visibility": null,
      "width": null
     }
    },
    "938ae419e93b44e0be8378f48f8cd3ac": {
     "model_module": "@jupyter-widgets/controls",
     "model_module_version": "1.5.0",
     "model_name": "DescriptionStyleModel",
     "state": {
      "_model_module": "@jupyter-widgets/controls",
      "_model_module_version": "1.5.0",
      "_model_name": "DescriptionStyleModel",
      "_view_count": null,
      "_view_module": "@jupyter-widgets/base",
      "_view_module_version": "1.2.0",
      "_view_name": "StyleView",
      "description_width": ""
     }
    },
    "a9e1ba934379419980397e8807e52e59": {
     "model_module": "@jupyter-widgets/base",
     "model_module_version": "1.2.0",
     "model_name": "LayoutModel",
     "state": {
      "_model_module": "@jupyter-widgets/base",
      "_model_module_version": "1.2.0",
      "_model_name": "LayoutModel",
      "_view_count": null,
      "_view_module": "@jupyter-widgets/base",
      "_view_module_version": "1.2.0",
      "_view_name": "LayoutView",
      "align_content": null,
      "align_items": null,
      "align_self": null,
      "border": null,
      "bottom": null,
      "display": null,
      "flex": null,
      "flex_flow": null,
      "grid_area": null,
      "grid_auto_columns": null,
      "grid_auto_flow": null,
      "grid_auto_rows": null,
      "grid_column": null,
      "grid_gap": null,
      "grid_row": null,
      "grid_template_areas": null,
      "grid_template_columns": null,
      "grid_template_rows": null,
      "height": null,
      "justify_content": null,
      "justify_items": null,
      "left": null,
      "margin": null,
      "max_height": null,
      "max_width": null,
      "min_height": null,
      "min_width": null,
      "object_fit": null,
      "object_position": null,
      "order": null,
      "overflow": null,
      "overflow_x": null,
      "overflow_y": null,
      "padding": null,
      "right": null,
      "top": null,
      "visibility": null,
      "width": "400px"
     }
    },
    "b30422ea4e5a4d43a01e831f035ba53a": {
     "model_module": "@jupyter-widgets/controls",
     "model_module_version": "1.5.0",
     "model_name": "TextModel",
     "state": {
      "_dom_classes": [],
      "_model_module": "@jupyter-widgets/controls",
      "_model_module_version": "1.5.0",
      "_model_name": "TextModel",
      "_view_count": null,
      "_view_module": "@jupyter-widgets/controls",
      "_view_module_version": "1.5.0",
      "_view_name": "TextView",
      "continuous_update": true,
      "description": "Audience",
      "description_tooltip": null,
      "disabled": false,
      "layout": "IPY_MODEL_18a227f0bede4cfea04ec986cc096488",
      "placeholder": "​",
      "style": "IPY_MODEL_0c8602635d984bef8251e2fd2814bdf0",
      "value": "athiest"
     }
    },
    "b6829a27efe54d4ea7fa460e4e01b472": {
     "model_module": "@jupyter-widgets/output",
     "model_module_version": "1.0.0",
     "model_name": "OutputModel",
     "state": {
      "_dom_classes": [],
      "_model_module": "@jupyter-widgets/output",
      "_model_module_version": "1.0.0",
      "_model_name": "OutputModel",
      "_view_count": null,
      "_view_module": "@jupyter-widgets/output",
      "_view_module_version": "1.0.0",
      "_view_name": "OutputView",
      "layout": "IPY_MODEL_e8b09312e53f46fd9f674557f11f069a",
      "msg_id": "",
      "outputs": [
       {
        "data": {
         "text/markdown": "### Generated Tweet:\n\nWhen people talk \"god,\" I think about the amazing universe and the awesome things humans do for each other. No divine plan needed to feel wonder or spread some #love.",
         "text/plain": "<IPython.core.display.Markdown object>"
        },
        "metadata": {},
        "output_type": "display_data"
       }
      ]
     }
    },
    "ce249b12560c42539cb8c105ee6140c0": {
     "model_module": "@jupyter-widgets/controls",
     "model_module_version": "1.5.0",
     "model_name": "TextModel",
     "state": {
      "_dom_classes": [],
      "_model_module": "@jupyter-widgets/controls",
      "_model_module_version": "1.5.0",
      "_model_name": "TextModel",
      "_view_count": null,
      "_view_module": "@jupyter-widgets/controls",
      "_view_module_version": "1.5.0",
      "_view_name": "TextView",
      "continuous_update": true,
      "description": "Topic",
      "description_tooltip": null,
      "disabled": false,
      "layout": "IPY_MODEL_2303ef1aeac548f1b9680c873afbfd7f",
      "placeholder": "​",
      "style": "IPY_MODEL_7805af2405304c06b145282b82b1f14f",
      "value": "god"
     }
    },
    "e570363adca742abb38d4ac5af76a1b9": {
     "model_module": "@jupyter-widgets/controls",
     "model_module_version": "1.5.0",
     "model_name": "HTMLModel",
     "state": {
      "_dom_classes": [],
      "_model_module": "@jupyter-widgets/controls",
      "_model_module_version": "1.5.0",
      "_model_name": "HTMLModel",
      "_view_count": null,
      "_view_module": "@jupyter-widgets/controls",
      "_view_module_version": "1.5.0",
      "_view_name": "HTMLView",
      "description": "",
      "description_tooltip": null,
      "layout": "IPY_MODEL_2afb715aaf9c4869bee6c0d9a74207c7",
      "placeholder": "​",
      "style": "IPY_MODEL_938ae419e93b44e0be8378f48f8cd3ac",
      "value": "<h1>Tweet Generator<h1>"
     }
    },
    "e8b09312e53f46fd9f674557f11f069a": {
     "model_module": "@jupyter-widgets/base",
     "model_module_version": "1.2.0",
     "model_name": "LayoutModel",
     "state": {
      "_model_module": "@jupyter-widgets/base",
      "_model_module_version": "1.2.0",
      "_model_name": "LayoutModel",
      "_view_count": null,
      "_view_module": "@jupyter-widgets/base",
      "_view_module_version": "1.2.0",
      "_view_name": "LayoutView",
      "align_content": null,
      "align_items": null,
      "align_self": null,
      "border": null,
      "bottom": null,
      "display": null,
      "flex": null,
      "flex_flow": null,
      "grid_area": null,
      "grid_auto_columns": null,
      "grid_auto_flow": null,
      "grid_auto_rows": null,
      "grid_column": null,
      "grid_gap": null,
      "grid_row": null,
      "grid_template_areas": null,
      "grid_template_columns": null,
      "grid_template_rows": null,
      "height": null,
      "justify_content": null,
      "justify_items": null,
      "left": null,
      "margin": null,
      "max_height": null,
      "max_width": null,
      "min_height": null,
      "min_width": null,
      "object_fit": null,
      "object_position": null,
      "order": null,
      "overflow": null,
      "overflow_x": null,
      "overflow_y": null,
      "padding": null,
      "right": null,
      "top": null,
      "visibility": null,
      "width": null
     }
    },
    "state": {},
    "version_major": 2,
    "version_minor": 0
   }
  }
 },
 "nbformat": 4,
 "nbformat_minor": 0
}
